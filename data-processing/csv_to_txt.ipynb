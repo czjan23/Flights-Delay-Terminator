{
 "cells": [
  {
   "cell_type": "code",
   "execution_count": 3,
   "metadata": {},
   "outputs": [],
   "source": [
    "import pandas as pd\n",
    "\n",
    "df1 = pd.read_csv('2014.csv')\n",
    "df2 = pd.read_csv('2015.csv')\n",
    "df3 = pd.read_csv('2016.csv')\n",
    "df4 = pd.read_csv('2017.csv')\n",
    "df5 = pd.read_csv('2018.csv')"
   ]
  },
  {
   "cell_type": "code",
   "execution_count": 4,
   "metadata": {},
   "outputs": [],
   "source": [
    "delay = df1['ARR_DELAY_NEW']\n",
    "origin = df1['ORIGIN']\n",
    "dest = df1['DEST']\n",
    "\n",
    "with open('from_to_data.txt', 'w') as f:\n",
    "    for i in range(len(df1)):\n",
    "        try:\n",
    "            line = \"%s_%s %s\\n\" % (origin[i], dest[i], int(delay[i]))\n",
    "            f.write(line)\n",
    "        except:\n",
    "            pass"
   ]
  },
  {
   "cell_type": "code",
   "execution_count": 5,
   "metadata": {},
   "outputs": [],
   "source": [
    "delay = df2['ARR_DELAY_NEW']\n",
    "origin = df2['ORIGIN']\n",
    "dest = df2['DEST']\n",
    "\n",
    "with open('from_to_data.txt', 'a') as f:\n",
    "    for i in range(len(df2)):\n",
    "        try:\n",
    "            line = \"%s_%s %s\\n\" % (origin[i], dest[i], int(delay[i]))\n",
    "            f.write(line)\n",
    "        except:\n",
    "            pass"
   ]
  },
  {
   "cell_type": "code",
   "execution_count": 6,
   "metadata": {},
   "outputs": [],
   "source": [
    "delay = df3['ARR_DELAY_NEW']\n",
    "origin = df3['ORIGIN']\n",
    "dest = df3['DEST']\n",
    "\n",
    "with open('from_to_data.txt', 'a') as f:\n",
    "    for i in range(len(df3)):\n",
    "        try:\n",
    "            line = \"%s_%s %s\\n\" % (origin[i], dest[i], int(delay[i]))\n",
    "            f.write(line)\n",
    "        except:\n",
    "            pass"
   ]
  },
  {
   "cell_type": "code",
   "execution_count": 7,
   "metadata": {},
   "outputs": [],
   "source": [
    "delay = df4['ARR_DELAY_NEW']\n",
    "origin = df4['ORIGIN']\n",
    "dest = df4['DEST']\n",
    "\n",
    "with open('from_to_data.txt', 'a') as f:\n",
    "    for i in range(len(df4)):\n",
    "        try:\n",
    "            line = \"%s_%s %s\\n\" % (origin[i], dest[i], int(delay[i]))\n",
    "            f.write(line)\n",
    "        except:\n",
    "            pass"
   ]
  },
  {
   "cell_type": "code",
   "execution_count": 1,
   "metadata": {},
   "outputs": [],
   "source": [
    "delay = df5['ARR_DELAY_NEW']\n",
    "origin = df5['ORIGIN']\n",
    "dest = df5['DEST']\n",
    "\n",
    "with open('from_to_data.txt', 'a') as f:\n",
    "    for i in range(len(df5)):\n",
    "        try:\n",
    "            line = \"%s_%s %s\\n\" % (origin[i], dest[i], int(delay[i]))\n",
    "            f.write(line)\n",
    "        except:\n",
    "            pass"
   ]
  },
  {
   "cell_type": "code",
   "execution_count": null,
   "metadata": {},
   "outputs": [],
   "source": [
    "carriers = df1['OP_CARRIER']\n",
    "code = df1['OP_CARRIER_FL_NUM']\n",
    "delay = df1['ARR_DELAY_NEW']\n",
    "\n",
    "with open('carrier_flight_data.txt', 'w') as f:\n",
    "    for i in range(len(df1)):\n",
    "        try:\n",
    "            line = \"%s_%s %s\\n\" % (carriers[i], code[i], int(delay[i]))\n",
    "            f.write(line)\n",
    "        except:\n",
    "            pass"
   ]
  },
  {
   "cell_type": "code",
   "execution_count": null,
   "metadata": {},
   "outputs": [],
   "source": [
    "carriers = df2['OP_CARRIER']\n",
    "code = df2['OP_CARRIER_FL_NUM']\n",
    "delay = df2['ARR_DELAY_NEW']\n",
    "\n",
    "with open('carrier_flight_data.txt', 'w') as f:\n",
    "    for i in range(len(df2)):\n",
    "        try:\n",
    "            line = \"%s_%s %s\\n\" % (carriers[i], code[i], int(delay[i]))\n",
    "            f.write(line)\n",
    "        except:\n",
    "            pass"
   ]
  },
  {
   "cell_type": "code",
   "execution_count": null,
   "metadata": {},
   "outputs": [],
   "source": [
    "carriers = df3['OP_CARRIER']\n",
    "code = df3['OP_CARRIER_FL_NUM']\n",
    "delay = df3['ARR_DELAY_NEW']\n",
    "\n",
    "with open('carrier_flight_data.txt', 'w') as f:\n",
    "    for i in range(len(df3)):\n",
    "        try:\n",
    "            line = \"%s_%s %s\\n\" % (carriers[i], code[i], int(delay[i]))\n",
    "            f.write(line)\n",
    "        except:\n",
    "            pass"
   ]
  },
  {
   "cell_type": "code",
   "execution_count": null,
   "metadata": {},
   "outputs": [],
   "source": [
    "carriers = df4['OP_CARRIER']\n",
    "code = df4['OP_CARRIER_FL_NUM']\n",
    "delay = df4['ARR_DELAY_NEW']\n",
    "\n",
    "with open('carrier_flight_data.txt', 'w') as f:\n",
    "    for i in range(len(df4)):\n",
    "        try:\n",
    "            line = \"%s_%s %s\\n\" % (carriers[i], code[i], int(delay[i]))\n",
    "            f.write(line)\n",
    "        except:\n",
    "            pass"
   ]
  },
  {
   "cell_type": "code",
   "execution_count": null,
   "metadata": {},
   "outputs": [],
   "source": [
    "carriers = df5['OP_CARRIER']\n",
    "code = df5['OP_CARRIER_FL_NUM']\n",
    "delay = df5['ARR_DELAY_NEW']\n",
    "\n",
    "with open('carrier_flight_data.txt', 'w') as f:\n",
    "    for i in range(len(df5)):\n",
    "        try:\n",
    "            line = \"%s_%s %s\\n\" % (carriers[i], code[i], int(delay[i]))\n",
    "            f.write(line)\n",
    "        except:\n",
    "            pass"
   ]
  }
 ],
 "metadata": {
  "anaconda-cloud": {},
  "kernelspec": {
   "display_name": "Python 3",
   "language": "python",
   "name": "python3"
  },
  "language_info": {
   "codemirror_mode": {
    "name": "ipython",
    "version": 3
   },
   "file_extension": ".py",
   "mimetype": "text/x-python",
   "name": "python",
   "nbconvert_exporter": "python",
   "pygments_lexer": "ipython3",
   "version": "3.7.0"
  }
 },
 "nbformat": 4,
 "nbformat_minor": 1
}
